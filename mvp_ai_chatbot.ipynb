{
 "cells": [
  {
   "cell_type": "markdown",
   "id": "b60221b3-d56c-41ea-9631-23e8c1993ba2",
   "metadata": {},
   "source": [
    "### Minimum viable product app"
   ]
  },
  {
   "cell_type": "code",
   "execution_count": 3,
   "id": "3f306222-1662-457a-804d-20e6097077c2",
   "metadata": {},
   "outputs": [],
   "source": [
    "import openai\n",
    "import gradio as gr"
   ]
  },
  {
   "cell_type": "code",
   "execution_count": 5,
   "id": "55d5852c-f435-4d3b-a2e1-812a2cf26e81",
   "metadata": {},
   "outputs": [
    {
     "name": "stdout",
     "output_type": "stream",
     "text": [
      "* Running on local URL:  http://127.0.0.1:7860\n",
      "\n",
      "To create a public link, set `share=True` in `launch()`.\n"
     ]
    },
    {
     "data": {
      "text/html": [
       "<div><iframe src=\"http://127.0.0.1:7860/\" width=\"100%\" height=\"500\" allow=\"autoplay; camera; microphone; clipboard-read; clipboard-write;\" frameborder=\"0\" allowfullscreen></iframe></div>"
      ],
      "text/plain": [
       "<IPython.core.display.HTML object>"
      ]
     },
     "metadata": {},
     "output_type": "display_data"
    }
   ],
   "source": [
    "# OpenAI API Anahtarını buraya ekleyin\n",
    "OPENAI_API_KEY = \"sk-xxxx\"\n",
    "openai.api_key = OPENAI_API_KEY\n",
    "\n",
    "def chat_with_gpt(user_input):\n",
    "    try:\n",
    "        response = openai.ChatCompletion.create(\n",
    "            model=\"gpt-3.5-turbo\",  # GPT modelini seç\n",
    "            messages=[{\"role\": \"system\", \"content\": \"Sen yardımcı bir AI asistansın.\"},\n",
    "                      {\"role\": \"user\", \"content\": user_input}]\n",
    "        )\n",
    "        return response[\"choices\"][0][\"message\"][\"content\"]\n",
    "    except Exception as e:\n",
    "        return f\"Hata: {str(e)}\"\n",
    "\n",
    "# Gradio Arayüzü\n",
    "iface = gr.Interface(\n",
    "    fn=chat_with_gpt,\n",
    "    inputs=\"text\",\n",
    "    outputs=\"text\",\n",
    "    title=\"Basit AI Chatbot\",\n",
    "    description=\"Bir mesaj yazın, GPT yanıtlasın!\"\n",
    ")\n",
    "\n",
    "if __name__ == \"__main__\":\n",
    "    iface.launch()\n"
   ]
  },
  {
   "cell_type": "code",
   "execution_count": null,
   "id": "4de1c8c5-327f-486c-b970-2afd00cef677",
   "metadata": {},
   "outputs": [],
   "source": []
  }
 ],
 "metadata": {
  "kernelspec": {
   "display_name": "Python (generativeaicourse)",
   "language": "python",
   "name": "generativeaicourse"
  },
  "language_info": {
   "codemirror_mode": {
    "name": "ipython",
    "version": 3
   },
   "file_extension": ".py",
   "mimetype": "text/x-python",
   "name": "python",
   "nbconvert_exporter": "python",
   "pygments_lexer": "ipython3",
   "version": "3.12.2"
  }
 },
 "nbformat": 4,
 "nbformat_minor": 5
}
